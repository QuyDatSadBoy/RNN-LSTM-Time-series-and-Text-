{
 "cells": [
  {
   "cell_type": "markdown",
   "metadata": {
    "id": "rI58CCX5Rvbe"
   },
   "source": [
    "## **1. Import các thư viện cần thiết**"
   ]
  },
  {
   "cell_type": "code",
   "execution_count": 1,
   "metadata": {
    "id": "zahFT_WUAqUq"
   },
   "outputs": [],
   "source": [
    "import os   \n",
    "import numpy as np\n",
    "import pandas as pd\n",
    "import matplotlib.pyplot as plt\n",
    "import tensorflow as tf\n",
    "\n",
    "from sklearn.model_selection import train_test_split\n",
    "\n",
    "RANDOM_SEED = 1\n",
    "tf.random.set_seed(RANDOM_SEED)"
   ]
  },
  {
   "cell_type": "markdown",
   "metadata": {
    "id": "FoNjWi_RSL4q"
   },
   "source": [
    "## **2. Chuẩn bị dữ liệu**"
   ]
  },
  {
   "cell_type": "code",
   "execution_count": 2,
   "metadata": {
    "id": "dRJ3rUOIv7Rv"
   },
   "outputs": [],
   "source": [
    "# Khai báo hàm Windowing (dùng để tạo các cặp X, y cho time series data)\n",
    "def slicing_window(df, df_start_idx, df_end_idx, input_size, label_size, offset):\n",
    "    features = [] # Khai báo list dùng để lưu trữ các X\n",
    "    labels = [] # Khai báo list dùng để lưu trữ các y\n",
    "\n",
    "    window_size = input_size + offset # Tính kích thước của window\n",
    "\n",
    "    # Nếu df_end_idx = chỉ mục cuối cùng bảng dữ liệu, cần phải dời xuống 1 khoảng = window size \n",
    "    if df_end_idx == None:\n",
    "        df_end_idx = len(df) - window_size \n",
    "    \n",
    "    # Duyệt qua từng mẫu dữ liệu\n",
    "    for idx in range(df_start_idx, df_end_idx):\n",
    "        feature_end_idx = idx + input_size # Tính chỉ mục kết thúc của X\n",
    "        label_start_idx = idx + window_size - label_size # Tính chỉ mục bắt đầu của y\n",
    "\n",
    "        feature = df[idx:feature_end_idx] # Lấy X\n",
    "        label = df[label_start_idx:(idx+window_size)] # Lấy y\n",
    "\n",
    "        features.append(feature) \n",
    "        labels.append(label)\n",
    "\n",
    "    # Chuyển list thành np.ndarrray\n",
    "    features = np.expand_dims(np.array(features), -1) \n",
    "    labels = np.array(labels)\n",
    "\n",
    "    return features, labels"
   ]
  },
  {
   "cell_type": "code",
   "execution_count": null,
   "metadata": {},
   "outputs": [],
   "source": []
  },
  {
   "cell_type": "code",
   "execution_count": 3,
   "metadata": {},
   "outputs": [
    {
     "data": {
      "text/plain": [
       "0    9.472222\n",
       "1    9.355556\n",
       "2    9.377778\n",
       "3    8.288889\n",
       "4    8.755556\n",
       "5    9.222222\n",
       "6    7.733333\n",
       "Name: Temperature (C), dtype: float64"
      ]
     },
     "execution_count": 3,
     "metadata": {},
     "output_type": "execute_result"
    }
   ],
   "source": [
    "univariate_df = pd.read_csv('temp.csv')\n",
    "univariate_df = univariate_df['Temperature (C)']\n",
    "univariate_df.head(7)"
   ]
  },
  {
   "cell_type": "code",
   "execution_count": null,
   "metadata": {},
   "outputs": [],
   "source": []
  },
  {
   "cell_type": "code",
   "execution_count": null,
   "metadata": {},
   "outputs": [],
   "source": []
  },
  {
   "cell_type": "code",
   "execution_count": 4,
   "metadata": {
    "id": "22Z3GCVz-hFr"
   },
   "outputs": [],
   "source": [
    "INPUT_SIZE = 6 # Dùng `input_size` giờ trước\n",
    "LABEL_SIZE = 1 # Để dự đoán nhiệt độ trong `label_size` giờ\n",
    "OFFSET = 1 # Vào khoảng `offset` giờ tiếp theo \n",
    "BATCH_SIZE = 32"
   ]
  },
  {
   "cell_type": "code",
   "execution_count": 5,
   "metadata": {
    "id": "vCnciV-R6xZ5"
   },
   "outputs": [],
   "source": [
    "dataset_length = len(univariate_df) # Số lượng mẫu dữ liệu trong DataFrame\n",
    "TRAIN_SIZE = 0.7 # Tỉ lệ kích thước tập train\n",
    "VAL_SIZE = 0.2 # Tỉ lệ kích thước tập val\n",
    "# Đổi tỉ lệ thành chỉ mục\n",
    "TRAIN_END_IDX = int(TRAIN_SIZE * dataset_length) \n",
    "VAL_END_IDX = int(VAL_SIZE * dataset_length) + TRAIN_END_IDX\n",
    "\n",
    "# Khởi tạo X, y cho tập train\n",
    "X_train, y_train = slicing_window(univariate_df, \n",
    "                                  df_start_idx=0,\n",
    "                                  df_end_idx=TRAIN_END_IDX,\n",
    "                                  input_size=INPUT_SIZE,\n",
    "                                  label_size=LABEL_SIZE,\n",
    "                                  offset=OFFSET)\n",
    "\n",
    "# Khởi tạo X, y cho tập val\n",
    "X_val, y_val = slicing_window(univariate_df, \n",
    "                                  df_start_idx=TRAIN_END_IDX,\n",
    "                                  df_end_idx=VAL_END_IDX,\n",
    "                                  input_size=INPUT_SIZE,\n",
    "                                  label_size=LABEL_SIZE,\n",
    "                                  offset=OFFSET)\n",
    "\n",
    "# Khởi tạo X, y cho tập test\n",
    "X_test, y_test = slicing_window(univariate_df, \n",
    "                                  df_start_idx=VAL_END_IDX,\n",
    "                                  df_end_idx=None,\n",
    "                                  input_size=INPUT_SIZE,\n",
    "                                  label_size=LABEL_SIZE,\n",
    "                                  offset=OFFSET)"
   ]
  },
  {
   "cell_type": "code",
   "execution_count": 6,
   "metadata": {},
   "outputs": [
    {
     "name": "stdout",
     "output_type": "stream",
     "text": [
      "(67517, 6, 1)\n",
      "(67517, 1)\n"
     ]
    }
   ],
   "source": [
    "print(X_train.shape)\n",
    "print(y_train.shape)"
   ]
  },
  {
   "cell_type": "code",
   "execution_count": null,
   "metadata": {},
   "outputs": [],
   "source": []
  },
  {
   "cell_type": "code",
   "execution_count": null,
   "metadata": {},
   "outputs": [],
   "source": []
  },
  {
   "cell_type": "code",
   "execution_count": 7,
   "metadata": {
    "id": "OOALlQCN_d0R"
   },
   "outputs": [],
   "source": [
    "# Khởi tạo tf.data.Dataset\n",
    "train_ds = tf.data.Dataset.from_tensor_slices((X_train, y_train)).batch(BATCH_SIZE)\n",
    "val_ds = tf.data.Dataset.from_tensor_slices((X_val, y_val)).batch(BATCH_SIZE)\n",
    "test_ds = tf.data.Dataset.from_tensor_slices((X_test, y_test)).batch(BATCH_SIZE)"
   ]
  },
  {
   "cell_type": "code",
   "execution_count": 8,
   "metadata": {
    "id": "mvwssxUmABk1"
   },
   "outputs": [],
   "source": [
    "# Cấu hình các tham số tối ưu cho việc đọc dữ liệu\n",
    "AUTOTUNE = tf.data.AUTOTUNE\n",
    "\n",
    "train_ds = train_ds.cache().prefetch(buffer_size=AUTOTUNE)\n",
    "val_ds = val_ds.cache().prefetch(buffer_size=AUTOTUNE)"
   ]
  },
  {
   "cell_type": "markdown",
   "metadata": {
    "id": "wuHEXCn3SPuM"
   },
   "source": [
    "## **3. Xây dựng mô hình**"
   ]
  },
  {
   "cell_type": "code",
   "execution_count": 9,
   "metadata": {
    "id": "QQLDXfGQLEzc"
   },
   "outputs": [],
   "source": [
    "# Khai báo normalization layer\n",
    "normalize_layer = tf.keras.layers.Normalization(axis=-1)\n",
    "normalize_layer.adapt(np.vstack((X_train, X_val, X_test)))"
   ]
  },
  {
   "cell_type": "code",
   "execution_count": 12,
   "metadata": {
    "id": "kjLcDQOMA3VX"
   },
   "outputs": [],
   "source": [
    "# Xây dựng hàm khởi tạo model\n",
    "def build_model(input_shape):\n",
    "    model = tf.keras.Sequential([\n",
    "        # Input layer (nhận vào 1 string)\n",
    "        tf.keras.Input(shape=input_shape, name='input_layer'),         \n",
    "        normalize_layer,\n",
    "        tf.keras.layers.Flatten(),\n",
    "\n",
    "        # Dense 1 \n",
    "        tf.keras.layers.Dense(32, activation='relu'),      \n",
    "\n",
    "        # Dense 2\n",
    "        tf.keras.layers.Dense(32, activation='relu'),              \n",
    "                       \n",
    "                                \n",
    "        # Output Layer\n",
    "        tf.keras.layers.Dense(1, \n",
    "                              kernel_initializer=tf.initializers.GlorotUniform(seed=RANDOM_SEED),\n",
    "                              name='output_layer') \n",
    "    ],\n",
    "    name='rnn_model')\n",
    "\n",
    "    return model"
   ]
  },
  {
   "cell_type": "code",
   "execution_count": 13,
   "metadata": {
    "colab": {
     "base_uri": "https://localhost:8080/"
    },
    "id": "EpM1-1L9BaYX",
    "outputId": "31865c6b-3148-454f-cfda-e439a2069f28"
   },
   "outputs": [
    {
     "name": "stdout",
     "output_type": "stream",
     "text": [
      "Model: \"rnn_model\"\n",
      "_________________________________________________________________\n",
      " Layer (type)                Output Shape              Param #   \n",
      "=================================================================\n",
      " normalization (Normalizatio  multiple                 3         \n",
      " n)                                                              \n",
      "                                                                 \n",
      " flatten_1 (Flatten)         (None, 6)                 0         \n",
      "                                                                 \n",
      " dense_2 (Dense)             (None, 32)                224       \n",
      "                                                                 \n",
      " dense_3 (Dense)             (None, 32)                1056      \n",
      "                                                                 \n",
      " output_layer (Dense)        (None, 1)                 33        \n",
      "                                                                 \n",
      "=================================================================\n",
      "Total params: 1,316\n",
      "Trainable params: 1,313\n",
      "Non-trainable params: 3\n",
      "_________________________________________________________________\n"
     ]
    }
   ],
   "source": [
    "INPUT_SHAPE = X_train.shape[-2:] \n",
    "model = build_model(INPUT_SHAPE)\n",
    "model.summary()"
   ]
  },
  {
   "cell_type": "markdown",
   "metadata": {
    "id": "r1M78tohz61-"
   },
   "source": [
    "## **4. Cấu hình mô hình**"
   ]
  },
  {
   "cell_type": "code",
   "execution_count": 14,
   "metadata": {
    "id": "OuAQ0Tsgz_1f"
   },
   "outputs": [],
   "source": [
    "# Khai báo một số giá trị siêu tham số\n",
    "EPOCHS = 20\n",
    "LR = 1e-3"
   ]
  },
  {
   "cell_type": "code",
   "execution_count": 15,
   "metadata": {
    "id": "AaegD5WG0Av0"
   },
   "outputs": [],
   "source": [
    "# Cấu hình một số thông tin cho mô hình\n",
    "model.compile(\n",
    "    optimizer=tf.keras.optimizers.Adam(learning_rate=LR), # Sử dụng optimizer Adam\n",
    "    loss=tf.keras.losses.MeanSquaredError(), # Sử dụng hàm loss Mean Squared Error\n",
    ")"
   ]
  },
  {
   "cell_type": "markdown",
   "metadata": {
    "id": "wVL6ieFZ0XwO"
   },
   "source": [
    "## **5. Huấn luyện mô hình**"
   ]
  },
  {
   "cell_type": "code",
   "execution_count": 16,
   "metadata": {
    "colab": {
     "base_uri": "https://localhost:8080/"
    },
    "id": "_aXnniiC0Z-8",
    "outputId": "f1461668-e6a0-4721-fe35-d4538fd0a264"
   },
   "outputs": [
    {
     "name": "stdout",
     "output_type": "stream",
     "text": [
      "Epoch 1/20\n",
      "2110/2110 [==============================] - 8s 3ms/step - loss: 27.6190 - val_loss: 2.0614\n",
      "Epoch 2/20\n",
      "2110/2110 [==============================] - 7s 3ms/step - loss: 2.5674 - val_loss: 1.6556\n",
      "Epoch 3/20\n",
      "2110/2110 [==============================] - 7s 3ms/step - loss: 2.3458 - val_loss: 1.6754\n",
      "Epoch 4/20\n",
      "2110/2110 [==============================] - 6s 3ms/step - loss: 2.2991 - val_loss: 1.6588\n",
      "Epoch 5/20\n",
      "2110/2110 [==============================] - 7s 3ms/step - loss: 2.2745 - val_loss: 1.6234\n",
      "Epoch 6/20\n",
      "2110/2110 [==============================] - 7s 3ms/step - loss: 2.2596 - val_loss: 1.6002\n",
      "Epoch 7/20\n",
      "2110/2110 [==============================] - 7s 3ms/step - loss: 2.2470 - val_loss: 1.5649\n",
      "Epoch 8/20\n",
      "2110/2110 [==============================] - 7s 3ms/step - loss: 2.2315 - val_loss: 1.5297\n",
      "Epoch 9/20\n",
      "2110/2110 [==============================] - 7s 3ms/step - loss: 2.2140 - val_loss: 1.5050\n",
      "Epoch 10/20\n",
      "2110/2110 [==============================] - 7s 3ms/step - loss: 2.1989 - val_loss: 1.4822\n",
      "Epoch 11/20\n",
      "2110/2110 [==============================] - 6s 3ms/step - loss: 2.1856 - val_loss: 1.4697\n",
      "Epoch 12/20\n",
      "2110/2110 [==============================] - 6s 3ms/step - loss: 2.1732 - val_loss: 1.4602\n",
      "Epoch 13/20\n",
      "2110/2110 [==============================] - 6s 3ms/step - loss: 2.1622 - val_loss: 1.4569\n",
      "Epoch 14/20\n",
      "2110/2110 [==============================] - 6s 3ms/step - loss: 2.1533 - val_loss: 1.4518\n",
      "Epoch 15/20\n",
      "2110/2110 [==============================] - 7s 3ms/step - loss: 2.1436 - val_loss: 1.4449\n",
      "Epoch 16/20\n",
      "2110/2110 [==============================] - 7s 3ms/step - loss: 2.1377 - val_loss: 1.4324\n",
      "Epoch 17/20\n",
      "2110/2110 [==============================] - 7s 3ms/step - loss: 2.1333 - val_loss: 1.4256\n",
      "Epoch 18/20\n",
      "2110/2110 [==============================] - 7s 3ms/step - loss: 2.1284 - val_loss: 1.4262\n",
      "Epoch 19/20\n",
      "2110/2110 [==============================] - 7s 3ms/step - loss: 2.1262 - val_loss: 1.4270\n",
      "Epoch 20/20\n",
      "2110/2110 [==============================] - 7s 3ms/step - loss: 2.1224 - val_loss: 1.4252\n"
     ]
    }
   ],
   "source": [
    "history = model.fit(train_ds, \n",
    "                    validation_data=val_ds,\n",
    "                    epochs=EPOCHS)"
   ]
  },
  {
   "cell_type": "markdown",
   "metadata": {
    "id": "3n0mStvxD_3i"
   },
   "source": [
    "## **6. Đánh giá và trực quan hóa**"
   ]
  },
  {
   "cell_type": "code",
   "execution_count": 17,
   "metadata": {
    "colab": {
     "base_uri": "https://localhost:8080/"
    },
    "id": "io3SVbwLEIEA",
    "outputId": "75ccbc74-a622-4a76-ecd3-d1cb1861ea01"
   },
   "outputs": [
    {
     "name": "stdout",
     "output_type": "stream",
     "text": [
      "302/302 [==============================] - 1s 2ms/step - loss: 1.2169\n"
     ]
    }
   ],
   "source": [
    "# Đánh giá mô hình trên tập test\n",
    "test_evaluation = model.evaluate(test_ds)"
   ]
  },
  {
   "cell_type": "code",
   "execution_count": null,
   "metadata": {
    "colab": {
     "base_uri": "https://localhost:8080/",
     "height": 350
    },
    "id": "Z0gouvt6EIxk",
    "outputId": "bafbdf28-5737-44a7-b920-63d566eca367"
   },
   "outputs": [],
   "source": [
    "train_loss = history.history['loss']# Đọc thông tin loss trên tập train\n",
    "val_loss = history.history['val_loss'] # Đọc thông tin loss trên tập val\n",
    "\n",
    "plt.figure(figsize=(10, 5)) # Cài đặt kích thước khung ảnh\n",
    "\n",
    "plt.subplot(1, 2, 1) # Khởi tạo khung ảnh cho training loss\n",
    "plt.xlabel('Epochs') # Hiển thị tên trục hoành là 'Epochs'\n",
    "plt.ylabel('Loss') # Hiển thị tên trục tung là 'Loss'\n",
    "plt.title('Training loss') # Hiển thị title của khung ảnh hiện tại là 'Training Loss'\n",
    "plt.plot(train_loss, color='red') # Vẽ đường giá trị loss trên tập train qua từng epoch (đường vẽ màu đỏ)\n",
    "\n",
    "plt.subplot(1, 2, 2) # Khởi tạo khung ảnh cho val loss\n",
    "plt.xlabel('Epochs') # Hiển thị tên trục hoành là 'Epochs'\n",
    "plt.ylabel('Loss') # Hiển thị tên trục tung là 'Loss'\n",
    "plt.title('Validation loss') # Hiển thị title của khung ảnh hiện tại là 'Validation loss'\n",
    "plt.plot(val_loss, color='orange') # Vẽ đường giá trị loss trên tập val qua từng epoch (đường vẽ màu đỏ)\n",
    "\n",
    "plt.show() # Hiển thị 2 khung ảnh nhỏ"
   ]
  },
  {
   "cell_type": "code",
   "execution_count": null,
   "metadata": {
    "colab": {
     "base_uri": "https://localhost:8080/",
     "height": 404
    },
    "id": "mpPLoMbxdqkg",
    "outputId": "bca970c6-163f-4ed2-fe03-755fb65f5fd2"
   },
   "outputs": [],
   "source": [
    "def plot_difference(y, pred):\n",
    "    plt.figure(figsize=(20, 6))\n",
    "    times = range(len(y))\n",
    "    y_to_plot = y.flatten()\n",
    "    pred_to_plot = pred.flatten()\n",
    "\n",
    "    plt.plot(times, y_to_plot, color='steelblue', marker='o', label='True value')\n",
    "    plt.plot(times, pred_to_plot, color='orangered', marker='X', label='Prediction')\n",
    "\n",
    "    plt.title('Temperature in every hours')\n",
    "    plt.xlabel('Hour')\n",
    "    plt.ylabel('Temperature (C)')\n",
    "    plt.legend()\n",
    "    plt.show()\n",
    "\n",
    "plot_difference(y_test[:100], model.predict(X_test[:100], verbose=0))"
   ]
  },
  {
   "cell_type": "code",
   "execution_count": null,
   "metadata": {},
   "outputs": [],
   "source": []
  }
 ],
 "metadata": {
  "accelerator": "GPU",
  "colab": {
   "provenance": []
  },
  "gpuClass": "standard",
  "kernelspec": {
   "display_name": "Python 3 (ipykernel)",
   "language": "python",
   "name": "python3"
  },
  "language_info": {
   "codemirror_mode": {
    "name": "ipython",
    "version": 3
   },
   "file_extension": ".py",
   "mimetype": "text/x-python",
   "name": "python",
   "nbconvert_exporter": "python",
   "pygments_lexer": "ipython3",
   "version": "3.9.13"
  }
 },
 "nbformat": 4,
 "nbformat_minor": 1
}
