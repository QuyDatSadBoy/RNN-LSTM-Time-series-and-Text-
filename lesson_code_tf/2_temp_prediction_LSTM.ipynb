{
 "cells": [
  {
   "cell_type": "markdown",
   "metadata": {
    "id": "rI58CCX5Rvbe"
   },
   "source": [
    "## **1. Import các thư viện cần thiết**"
   ]
  },
  {
   "cell_type": "code",
   "execution_count": 1,
   "metadata": {
    "id": "zahFT_WUAqUq"
   },
   "outputs": [],
   "source": [
    "import os   \n",
    "import numpy as np\n",
    "import pandas as pd\n",
    "import matplotlib.pyplot as plt\n",
    "import tensorflow as tf\n",
    "\n",
    "from sklearn.model_selection import train_test_split\n",
    "\n",
    "RANDOM_SEED = 1\n",
    "tf.random.set_seed(RANDOM_SEED)"
   ]
  },
  {
   "cell_type": "markdown",
   "metadata": {
    "id": "FoNjWi_RSL4q"
   },
   "source": [
    "## **2. Chuẩn bị dữ liệu**"
   ]
  },
  {
   "cell_type": "code",
   "execution_count": 2,
   "metadata": {
    "id": "dRJ3rUOIv7Rv"
   },
   "outputs": [],
   "source": [
    "# Khai báo hàm Windowing (dùng để tạo các cặp X, y cho time series data)\n",
    "def slicing_window(df, df_start_idx, df_end_idx, input_size, label_size, offset):\n",
    "    features = [] # Khai báo list dùng để lưu trữ các X\n",
    "    labels = [] # Khai báo list dùng để lưu trữ các y\n",
    "\n",
    "    window_size = input_size + offset # Tính kích thước của window\n",
    "\n",
    "    # Nếu df_end_idx = chỉ mục cuối cùng bảng dữ liệu, cần phải dời xuống 1 khoảng = window size \n",
    "    if df_end_idx == None:\n",
    "        df_end_idx = len(df) - window_size \n",
    "    \n",
    "    # Duyệt qua từng mẫu dữ liệu\n",
    "    for idx in range(df_start_idx, df_end_idx):\n",
    "        feature_end_idx = idx + input_size # Tính chỉ mục kết thúc của X\n",
    "        label_start_idx = idx + window_size - label_size # Tính chỉ mục bắt đầu của y\n",
    "\n",
    "        feature = df[idx:feature_end_idx] # Lấy X\n",
    "        label = df[label_start_idx:(idx+window_size)] # Lấy y\n",
    "\n",
    "        features.append(feature) \n",
    "        labels.append(label)\n",
    "\n",
    "    # Chuyển list thành np.ndarrray\n",
    "    features = np.expand_dims(np.array(features), -1) \n",
    "    labels = np.array(labels)\n",
    "\n",
    "    return features, labels"
   ]
  },
  {
   "cell_type": "code",
   "execution_count": 2,
   "metadata": {
    "id": "Gb0uZgsm6sDD"
   },
   "outputs": [],
   "source": []
  },
  {
   "cell_type": "code",
   "execution_count": 4,
   "metadata": {
    "colab": {
     "base_uri": "https://localhost:8080/"
    },
    "id": "f8CNWCvp6sDE",
    "outputId": "98dca6f9-ee3a-4ba9-a5c9-c9b5ca830b52"
   },
   "outputs": [
    {
     "data": {
      "text/plain": [
       "0    9.472222\n",
       "1    9.355556\n",
       "2    9.377778\n",
       "3    8.288889\n",
       "4    8.755556\n",
       "5    9.222222\n",
       "6    7.733333\n",
       "Name: Temperature (C), dtype: float64"
      ]
     },
     "execution_count": 4,
     "metadata": {},
     "output_type": "execute_result"
    }
   ],
   "source": [
    "univariate_df = pd.read_csv('https://www.dropbox.com/s/2ylwh7bqah0lta5/temp.csv?dl=1')\n",
    "univariate_df = univariate_df['Temperature (C)']\n",
    "univariate_df.head(7)"
   ]
  },
  {
   "cell_type": "code",
   "execution_count": 5,
   "metadata": {
    "id": "_XHualT46sDF"
   },
   "outputs": [],
   "source": []
  },
  {
   "cell_type": "code",
   "execution_count": 5,
   "metadata": {
    "id": "bJM47ma96sDG"
   },
   "outputs": [],
   "source": []
  },
  {
   "cell_type": "code",
   "execution_count": 6,
   "metadata": {
    "id": "22Z3GCVz-hFr"
   },
   "outputs": [],
   "source": [
    "INPUT_SIZE = 20 # Dùng `input_size` giờ trước\n",
    "LABEL_SIZE = 1 # Để dự đoán nhiệt độ trong `label_size` giờ\n",
    "OFFSET = 1 # Vào khoảng `offset` giờ tiếp theo \n",
    "BATCH_SIZE = 32"
   ]
  },
  {
   "cell_type": "code",
   "execution_count": 7,
   "metadata": {
    "id": "vCnciV-R6xZ5"
   },
   "outputs": [],
   "source": [
    "dataset_length = len(univariate_df) # Số lượng mẫu dữ liệu trong DataFrame\n",
    "TRAIN_SIZE = 0.7 # Tỉ lệ kích thước tập train\n",
    "VAL_SIZE = 0.2 # Tỉ lệ kích thước tập val\n",
    "# Đổi tỉ lệ thành chỉ mục\n",
    "TRAIN_END_IDX = int(TRAIN_SIZE * dataset_length) \n",
    "VAL_END_IDX = int(VAL_SIZE * dataset_length) + TRAIN_END_IDX\n",
    "\n",
    "# Khởi tạo X, y cho tập train\n",
    "X_train, y_train = slicing_window(univariate_df, \n",
    "                                  df_start_idx=0,\n",
    "                                  df_end_idx=TRAIN_END_IDX,\n",
    "                                  input_size=INPUT_SIZE,\n",
    "                                  label_size=LABEL_SIZE,\n",
    "                                  offset=OFFSET)\n",
    "\n",
    "# Khởi tạo X, y cho tập val\n",
    "X_val, y_val = slicing_window(univariate_df, \n",
    "                                  df_start_idx=TRAIN_END_IDX,\n",
    "                                  df_end_idx=VAL_END_IDX,\n",
    "                                  input_size=INPUT_SIZE,\n",
    "                                  label_size=LABEL_SIZE,\n",
    "                                  offset=OFFSET)\n",
    "\n",
    "# Khởi tạo X, y cho tập test\n",
    "X_test, y_test = slicing_window(univariate_df, \n",
    "                                  df_start_idx=VAL_END_IDX,\n",
    "                                  df_end_idx=None,\n",
    "                                  input_size=INPUT_SIZE,\n",
    "                                  label_size=LABEL_SIZE,\n",
    "                                  offset=OFFSET)"
   ]
  },
  {
   "cell_type": "code",
   "execution_count": 8,
   "metadata": {
    "id": "OOALlQCN_d0R"
   },
   "outputs": [],
   "source": [
    "# Khởi tạo tf.data.Dataset\n",
    "train_ds = tf.data.Dataset.from_tensor_slices((X_train, y_train)).batch(BATCH_SIZE)\n",
    "val_ds = tf.data.Dataset.from_tensor_slices((X_val, y_val)).batch(BATCH_SIZE)\n",
    "test_ds = tf.data.Dataset.from_tensor_slices((X_test, y_test)).batch(BATCH_SIZE)"
   ]
  },
  {
   "cell_type": "code",
   "execution_count": 9,
   "metadata": {
    "id": "mvwssxUmABk1"
   },
   "outputs": [],
   "source": [
    "# Cấu hình các tham số tối ưu cho việc đọc dữ liệu\n",
    "AUTOTUNE = tf.data.AUTOTUNE\n",
    "\n",
    "train_ds = train_ds.cache().prefetch(buffer_size=AUTOTUNE)\n",
    "val_ds = val_ds.cache().prefetch(buffer_size=AUTOTUNE)"
   ]
  },
  {
   "cell_type": "markdown",
   "metadata": {
    "id": "wuHEXCn3SPuM"
   },
   "source": [
    "## **3. Xây dựng mô hình**"
   ]
  },
  {
   "cell_type": "code",
   "execution_count": 10,
   "metadata": {
    "id": "QQLDXfGQLEzc"
   },
   "outputs": [],
   "source": [
    "# Khai báo normalization layer\n",
    "normalize_layer = tf.keras.layers.Normalization(axis=-1)\n",
    "normalize_layer.adapt(np.vstack((X_train, X_val, X_test)))"
   ]
  },
  {
   "cell_type": "code",
   "execution_count": 11,
   "metadata": {
    "id": "kjLcDQOMA3VX"
   },
   "outputs": [],
   "source": [
    "# Xây dựng hàm khởi tạo model\n",
    "def build_model(input_shape):\n",
    "    model = tf.keras.Sequential([\n",
    "        # Input layer (nhận vào 1 string)\n",
    "        tf.keras.Input(shape=input_shape, name='input_layer'), \n",
    "\n",
    "        normalize_layer,\n",
    "\n",
    "        # LSTM Layer 1 \n",
    "        tf.keras.layers.LSTM(16, \n",
    "                            return_sequences=True, \n",
    "                            kernel_initializer=tf.initializers.GlorotUniform(seed=RANDOM_SEED),\n",
    "                            name='lstm_layer_1'),      \n",
    "\n",
    "        # LSTM Layer 2\n",
    "        tf.keras.layers.LSTM(16, \n",
    "                            return_sequences=True, \n",
    "                            kernel_initializer=tf.initializers.GlorotUniform(seed=RANDOM_SEED),\n",
    "                            name='lstm_layer_2'),               \n",
    "                    \n",
    "        # LSTM Layer 3\n",
    "        tf.keras.layers.LSTM(16, \n",
    "                            return_sequences=False, \n",
    "                            kernel_initializer=tf.initializers.GlorotUniform(seed=RANDOM_SEED),\n",
    "                            name='lstm_layer_3'),      \n",
    "                                \n",
    "        # Output Layer\n",
    "        tf.keras.layers.Dense(1, \n",
    "                              kernel_initializer=tf.initializers.GlorotUniform(seed=RANDOM_SEED),\n",
    "                              name='output_layer') \n",
    "    ],\n",
    "    name='lstm_model')\n",
    "\n",
    "    return model"
   ]
  },
  {
   "cell_type": "code",
   "execution_count": 12,
   "metadata": {
    "colab": {
     "base_uri": "https://localhost:8080/"
    },
    "id": "EpM1-1L9BaYX",
    "outputId": "e7a1a41f-061e-4f60-8ddf-10cb2080d9bd"
   },
   "outputs": [
    {
     "name": "stdout",
     "output_type": "stream",
     "text": [
      "Model: \"lstm_model\"\n",
      "_________________________________________________________________\n",
      " Layer (type)                Output Shape              Param #   \n",
      "=================================================================\n",
      " normalization (Normalizatio  (None, 20, 1)            3         \n",
      " n)                                                              \n",
      "                                                                 \n",
      " lstm_layer_1 (LSTM)         (None, 20, 16)            1152      \n",
      "                                                                 \n",
      " lstm_layer_2 (LSTM)         (None, 20, 16)            2112      \n",
      "                                                                 \n",
      " lstm_layer_3 (LSTM)         (None, 16)                2112      \n",
      "                                                                 \n",
      " output_layer (Dense)        (None, 1)                 17        \n",
      "                                                                 \n",
      "=================================================================\n",
      "Total params: 5,396\n",
      "Trainable params: 5,393\n",
      "Non-trainable params: 3\n",
      "_________________________________________________________________\n"
     ]
    }
   ],
   "source": [
    "INPUT_SHAPE = X_train.shape[-2:] \n",
    "model = build_model(INPUT_SHAPE)\n",
    "model.summary()"
   ]
  },
  {
   "cell_type": "markdown",
   "metadata": {
    "id": "r1M78tohz61-"
   },
   "source": [
    "## **4. Cấu hình mô hình**"
   ]
  },
  {
   "cell_type": "code",
   "execution_count": 13,
   "metadata": {
    "id": "OuAQ0Tsgz_1f"
   },
   "outputs": [],
   "source": [
    "# Khai báo một số giá trị siêu tham số\n",
    "EPOCHS = 35\n",
    "LR = 1e-3"
   ]
  },
  {
   "cell_type": "code",
   "execution_count": 14,
   "metadata": {
    "id": "AaegD5WG0Av0"
   },
   "outputs": [],
   "source": [
    "# Cấu hình một số thông tin cho mô hình\n",
    "model.compile(\n",
    "    optimizer=tf.keras.optimizers.Adam(learning_rate=LR), # Sử dụng optimizer Adam\n",
    "    loss=tf.keras.losses.MeanSquaredError(), # Sử dụng hàm loss Mean Squared Error\n",
    ")"
   ]
  },
  {
   "cell_type": "markdown",
   "metadata": {
    "id": "wVL6ieFZ0XwO"
   },
   "source": [
    "## **5. Huấn luyện mô hình**"
   ]
  },
  {
   "cell_type": "code",
   "execution_count": 15,
   "metadata": {
    "colab": {
     "base_uri": "https://localhost:8080/"
    },
    "id": "_aXnniiC0Z-8",
    "outputId": "aae03ff9-322a-42a9-c4e9-2d3d86860f3d"
   },
   "outputs": [
    {
     "name": "stdout",
     "output_type": "stream",
     "text": [
      "Epoch 1/35\n",
      "2110/2110 [==============================] - 26s 8ms/step - loss: 47.0769 - val_loss: 7.9130\n",
      "Epoch 2/35\n",
      "2110/2110 [==============================] - 17s 8ms/step - loss: 5.9230 - val_loss: 2.2670\n",
      "Epoch 3/35\n",
      "2110/2110 [==============================] - 17s 8ms/step - loss: 2.7384 - val_loss: 1.6508\n",
      "Epoch 4/35\n",
      "2110/2110 [==============================] - 16s 8ms/step - loss: 2.1838 - val_loss: 1.4021\n",
      "Epoch 5/35\n",
      "2110/2110 [==============================] - 16s 8ms/step - loss: 2.0223 - val_loss: 1.3550\n",
      "Epoch 6/35\n",
      "2110/2110 [==============================] - 17s 8ms/step - loss: 1.9535 - val_loss: 1.3260\n",
      "Epoch 7/35\n",
      "2110/2110 [==============================] - 16s 8ms/step - loss: 1.9108 - val_loss: 1.3078\n",
      "Epoch 8/35\n",
      "2110/2110 [==============================] - 16s 8ms/step - loss: 1.8820 - val_loss: 1.2999\n",
      "Epoch 9/35\n",
      "2110/2110 [==============================] - 16s 8ms/step - loss: 1.8587 - val_loss: 1.2943\n",
      "Epoch 10/35\n",
      "2110/2110 [==============================] - 16s 8ms/step - loss: 1.8377 - val_loss: 1.2880\n",
      "Epoch 11/35\n",
      "2110/2110 [==============================] - 16s 8ms/step - loss: 1.8188 - val_loss: 1.2808\n",
      "Epoch 12/35\n",
      "2110/2110 [==============================] - 16s 8ms/step - loss: 1.8026 - val_loss: 1.2737\n",
      "Epoch 13/35\n",
      "2110/2110 [==============================] - 16s 8ms/step - loss: 1.7887 - val_loss: 1.2684\n",
      "Epoch 14/35\n",
      "2110/2110 [==============================] - 16s 8ms/step - loss: 1.7768 - val_loss: 1.2655\n",
      "Epoch 15/35\n",
      "2110/2110 [==============================] - 16s 8ms/step - loss: 1.7662 - val_loss: 1.2647\n",
      "Epoch 16/35\n",
      "2110/2110 [==============================] - 16s 8ms/step - loss: 1.7562 - val_loss: 1.2659\n",
      "Epoch 17/35\n",
      "2110/2110 [==============================] - 16s 8ms/step - loss: 1.7468 - val_loss: 1.2677\n",
      "Epoch 18/35\n",
      "2110/2110 [==============================] - 16s 8ms/step - loss: 1.7381 - val_loss: 1.2689\n",
      "Epoch 19/35\n",
      "2110/2110 [==============================] - 16s 8ms/step - loss: 1.7304 - val_loss: 1.2690\n",
      "Epoch 20/35\n",
      "2110/2110 [==============================] - 16s 8ms/step - loss: 1.7236 - val_loss: 1.2675\n",
      "Epoch 21/35\n",
      "2110/2110 [==============================] - 16s 8ms/step - loss: 1.7175 - val_loss: 1.2643\n",
      "Epoch 22/35\n",
      "2110/2110 [==============================] - 16s 8ms/step - loss: 1.7119 - val_loss: 1.2605\n",
      "Epoch 23/35\n",
      "2110/2110 [==============================] - 16s 8ms/step - loss: 1.7066 - val_loss: 1.2559\n",
      "Epoch 24/35\n",
      "2110/2110 [==============================] - 16s 8ms/step - loss: 1.7016 - val_loss: 1.2500\n",
      "Epoch 25/35\n",
      "2110/2110 [==============================] - 16s 8ms/step - loss: 1.6970 - val_loss: 1.2433\n",
      "Epoch 26/35\n",
      "2110/2110 [==============================] - 16s 8ms/step - loss: 1.6926 - val_loss: 1.2365\n",
      "Epoch 27/35\n",
      "2110/2110 [==============================] - 16s 8ms/step - loss: 1.6883 - val_loss: 1.2301\n",
      "Epoch 28/35\n",
      "2110/2110 [==============================] - 16s 8ms/step - loss: 1.6843 - val_loss: 1.2246\n",
      "Epoch 29/35\n",
      "2110/2110 [==============================] - 16s 8ms/step - loss: 1.6801 - val_loss: 1.2203\n",
      "Epoch 30/35\n",
      "2110/2110 [==============================] - 16s 8ms/step - loss: 1.6759 - val_loss: 1.2167\n",
      "Epoch 31/35\n",
      "2110/2110 [==============================] - 17s 8ms/step - loss: 1.6713 - val_loss: 1.2140\n",
      "Epoch 32/35\n",
      "2110/2110 [==============================] - 17s 8ms/step - loss: 1.6667 - val_loss: 1.2118\n",
      "Epoch 33/35\n",
      "2110/2110 [==============================] - 16s 8ms/step - loss: 1.6625 - val_loss: 1.2096\n",
      "Epoch 34/35\n",
      "2110/2110 [==============================] - 16s 8ms/step - loss: 1.6585 - val_loss: 1.2077\n",
      "Epoch 35/35\n",
      "2110/2110 [==============================] - 16s 8ms/step - loss: 1.6546 - val_loss: 1.2063\n"
     ]
    }
   ],
   "source": [
    "history = model.fit(train_ds, \n",
    "                    validation_data=val_ds,\n",
    "                    epochs=EPOCHS)"
   ]
  },
  {
   "cell_type": "markdown",
   "metadata": {
    "id": "3n0mStvxD_3i"
   },
   "source": [
    "## **6. Đánh giá và trực quan hóa**"
   ]
  },
  {
   "cell_type": "code",
   "execution_count": 16,
   "metadata": {
    "colab": {
     "base_uri": "https://localhost:8080/"
    },
    "id": "io3SVbwLEIEA",
    "outputId": "dc6ec403-eff3-4c5a-c2b9-fa750d0e1a9c"
   },
   "outputs": [
    {
     "name": "stdout",
     "output_type": "stream",
     "text": [
      "301/301 [==============================] - 1s 4ms/step - loss: 1.0362\n"
     ]
    }
   ],
   "source": [
    "# Đánh giá mô hình trên tập test\n",
    "test_evaluation = model.evaluate(test_ds)"
   ]
  },
  {
   "cell_type": "code",
   "execution_count": 17,
   "metadata": {
    "colab": {
     "base_uri": "https://localhost:8080/",
     "height": 350
    },
    "id": "Z0gouvt6EIxk",
    "outputId": "267de83d-f884-4ed0-bf89-d2af489e4b3b"
   },
   "outputs": [
    {
     "data": {
      "image/png": "[encoded data removed]",
      "text/plain": [
       "<Figure size 720x360 with 2 Axes>"
      ]
     },
     "metadata": {
      "needs_background": "light"
     },
     "output_type": "display_data"
    }
   ],
   "source": [
    "train_loss = history.history['loss']# Đọc thông tin loss trên tập train\n",
    "val_loss = history.history['val_loss'] # Đọc thông tin loss trên tập val\n",
    "\n",
    "plt.figure(figsize=(10, 5)) # Cài đặt kích thước khung ảnh\n",
    "\n",
    "plt.subplot(1, 2, 1) # Khởi tạo khung ảnh cho training loss\n",
    "plt.xlabel('Epochs') # Hiển thị tên trục hoành là 'Epochs'\n",
    "plt.ylabel('Loss') # Hiển thị tên trục tung là 'Loss'\n",
    "plt.title('Training loss') # Hiển thị title của khung ảnh hiện tại là 'Training Loss'\n",
    "plt.plot(train_loss, color='red') # Vẽ đường giá trị loss trên tập train qua từng epoch (đường vẽ màu đỏ)\n",
    "\n",
    "plt.subplot(1, 2, 2) # Khởi tạo khung ảnh cho val loss\n",
    "plt.xlabel('Epochs') # Hiển thị tên trục hoành là 'Epochs'\n",
    "plt.ylabel('Loss') # Hiển thị tên trục tung là 'Loss'\n",
    "plt.title('Validation loss') # Hiển thị title của khung ảnh hiện tại là 'Validation loss'\n",
    "plt.plot(val_loss, color='orange') # Vẽ đường giá trị loss trên tập val qua từng epoch (đường vẽ màu đỏ)\n",
    "\n",
    "plt.show() # Hiển thị 2 khung ảnh nhỏ"
   ]
  },
  {
   "cell_type": "code",
   "execution_count": 18,
   "metadata": {
    "colab": {
     "base_uri": "https://localhost:8080/",
     "height": 404
    },
    "id": "mpPLoMbxdqkg",
    "outputId": "6e77e2f7-0dcd-42d4-b3d6-5c81ee03bd43"
   },
   "outputs": [
    {
     "data": {
      "image/png": "[encoded data removed]",
      "text/plain": [
       "<Figure size 1440x432 with 1 Axes>"
      ]
     },
     "metadata": {
      "needs_background": "light"
     },
     "output_type": "display_data"
    }
   ],
   "source": [
    "def plot_difference(y, pred):\n",
    "    plt.figure(figsize=(20, 6))\n",
    "    times = range(len(y))\n",
    "    y_to_plot = y.flatten()\n",
    "    pred_to_plot = pred.flatten()\n",
    "\n",
    "    plt.plot(times, y_to_plot, color='steelblue', marker='o', label='True value')\n",
    "    plt.plot(times, pred_to_plot, color='orangered', marker='X', label='Prediction')\n",
    "\n",
    "    plt.title('Temperature in every hours')\n",
    "    plt.xlabel('Hour')\n",
    "    plt.ylabel('Temperature (C)')\n",
    "    plt.legend()\n",
    "    plt.show()\n",
    "\n",
    "plot_difference(y_test[:100], model.predict(X_test[:100], verbose=0))"
   ]
  },
  {
   "cell_type": "code",
   "execution_count": null,
   "metadata": {
    "id": "86H5hAMN6sDQ"
   },
   "outputs": [],
   "source": []
  }
 ],
 "metadata": {
  "accelerator": "GPU",
  "colab": {
   "provenance": []
  },
  "gpuClass": "standard",
  "kernelspec": {
   "display_name": "Python 3 (ipykernel)",
   "language": "python",
   "name": "python3"
  },
  "language_info": {
   "codemirror_mode": {
    "name": "ipython",
    "version": 3
   },
   "file_extension": ".py",
   "mimetype": "text/x-python",
   "name": "python",
   "nbconvert_exporter": "python",
   "pygments_lexer": "ipython3",
   "version": "3.9.13"
  }
 },
 "nbformat": 4,
 "nbformat_minor": 1
}
