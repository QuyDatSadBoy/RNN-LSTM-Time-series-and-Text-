{
 "cells": [
  {
   "cell_type": "markdown",
   "metadata": {
    "id": "rI58CCX5Rvbe"
   },
   "source": [
    "## **1. Import các thư viện cần thiết**"
   ]
  },
  {
   "cell_type": "code",
   "execution_count": 1,
   "metadata": {
    "id": "zahFT_WUAqUq"
   },
   "outputs": [],
   "source": [
    "import os   \n",
    "import numpy as np\n",
    "import pandas as pd\n",
    "import matplotlib.pyplot as plt\n",
    "import tensorflow as tf\n",
    "\n",
    "from sklearn.model_selection import train_test_split\n",
    "\n",
    "RANDOM_SEED = 1\n",
    "tf.random.set_seed(RANDOM_SEED)"
   ]
  },
  {
   "cell_type": "markdown",
   "metadata": {
    "id": "FoNjWi_RSL4q"
   },
   "source": [
    "## **2. Chuẩn bị dữ liệu**"
   ]
  },
  {
   "cell_type": "code",
   "execution_count": 2,
   "metadata": {
    "id": "dRJ3rUOIv7Rv"
   },
   "outputs": [],
   "source": [
    "# Khai báo hàm Windowing (dùng để tạo các cặp X, y cho time series data)\n",
    "def slicing_window(df, df_start_idx, df_end_idx, input_size, label_size, offset):\n",
    "    features = [] # Khai báo list dùng để lưu trữ các X\n",
    "    labels = [] # Khai báo list dùng để lưu trữ các y\n",
    "\n",
    "    window_size = input_size + offset # Tính kích thước của window\n",
    "\n",
    "    # Nếu df_end_idx = chỉ mục cuối cùng bảng dữ liệu, cần phải dời xuống 1 khoảng = window size \n",
    "    if df_end_idx == None:\n",
    "        df_end_idx = len(df) - window_size \n",
    "    \n",
    "    # Duyệt qua từng mẫu dữ liệu\n",
    "    for idx in range(df_start_idx, df_end_idx):\n",
    "        feature_end_idx = idx + input_size # Tính chỉ mục kết thúc của X\n",
    "        label_start_idx = idx + window_size - label_size # Tính chỉ mục bắt đầu của y\n",
    "\n",
    "        feature = df[idx:feature_end_idx] # Lấy X\n",
    "        label = df[label_start_idx:(idx+window_size)] # Lấy y\n",
    "\n",
    "        features.append(feature) \n",
    "        labels.append(label)\n",
    "\n",
    "    # Chuyển list thành np.ndarrray\n",
    "    features = np.expand_dims(np.array(features), -1) \n",
    "    labels = np.array(labels)\n",
    "\n",
    "    return features, labels"
   ]
  },
  {
   "cell_type": "code",
   "execution_count": null,
   "metadata": {
    "id": "GFTkW3NURAbN"
   },
   "outputs": [],
   "source": []
  },
  {
   "cell_type": "code",
   "execution_count": 3,
   "metadata": {
    "colab": {
     "base_uri": "https://localhost:8080/"
    },
    "id": "XVgEP6bURAbN",
    "outputId": "30dc5901-c23b-4c1b-cfa6-0ed50c1e75a5"
   },
   "outputs": [
    {
     "data": {
      "text/plain": [
       "0    9.472222\n",
       "1    9.355556\n",
       "2    9.377778\n",
       "3    8.288889\n",
       "4    8.755556\n",
       "5    9.222222\n",
       "6    7.733333\n",
       "Name: Temperature (C), dtype: float64"
      ]
     },
     "execution_count": 3,
     "metadata": {},
     "output_type": "execute_result"
    }
   ],
   "source": [
    "univariate_df = pd.read_csv('https://www.dropbox.com/s/2ylwh7bqah0lta5/temp.csv?dl=1')\n",
    "univariate_df = univariate_df['Temperature (C)']\n",
    "univariate_df.head(7)"
   ]
  },
  {
   "cell_type": "code",
   "execution_count": null,
   "metadata": {
    "id": "e6Qq5UUdRAbQ"
   },
   "outputs": [],
   "source": []
  },
  {
   "cell_type": "code",
   "execution_count": null,
   "metadata": {
    "id": "d5oHbbxWRAbR"
   },
   "outputs": [],
   "source": []
  },
  {
   "cell_type": "code",
   "execution_count": 4,
   "metadata": {
    "id": "22Z3GCVz-hFr"
   },
   "outputs": [],
   "source": [
    "INPUT_SIZE = 6 # Dùng `input_size` giờ trước\n",
    "LABEL_SIZE = 1 # Để dự đoán nhiệt độ trong `label_size` giờ\n",
    "OFFSET = 1 # Vào khoảng `offset` giờ tiếp theo \n",
    "BATCH_SIZE = 32"
   ]
  },
  {
   "cell_type": "code",
   "execution_count": 5,
   "metadata": {
    "id": "vCnciV-R6xZ5"
   },
   "outputs": [],
   "source": [
    "dataset_length = len(univariate_df) # Số lượng mẫu dữ liệu trong DataFrame\n",
    "TRAIN_SIZE = 0.7 # Tỉ lệ kích thước tập train\n",
    "VAL_SIZE = 0.2 # Tỉ lệ kích thước tập val\n",
    "# Đổi tỉ lệ thành chỉ mục\n",
    "TRAIN_END_IDX = int(TRAIN_SIZE * dataset_length) \n",
    "VAL_END_IDX = int(VAL_SIZE * dataset_length) + TRAIN_END_IDX\n",
    "\n",
    "# Khởi tạo X, y cho tập train\n",
    "X_train, y_train = slicing_window(univariate_df, \n",
    "                                  df_start_idx=0,\n",
    "                                  df_end_idx=TRAIN_END_IDX,\n",
    "                                  input_size=INPUT_SIZE,\n",
    "                                  label_size=LABEL_SIZE,\n",
    "                                  offset=OFFSET)\n",
    "\n",
    "# Khởi tạo X, y cho tập val\n",
    "X_val, y_val = slicing_window(univariate_df, \n",
    "                                  df_start_idx=TRAIN_END_IDX,\n",
    "                                  df_end_idx=VAL_END_IDX,\n",
    "                                  input_size=INPUT_SIZE,\n",
    "                                  label_size=LABEL_SIZE,\n",
    "                                  offset=OFFSET)\n",
    "\n",
    "# Khởi tạo X, y cho tập test\n",
    "X_test, y_test = slicing_window(univariate_df, \n",
    "                                  df_start_idx=VAL_END_IDX,\n",
    "                                  df_end_idx=None,\n",
    "                                  input_size=INPUT_SIZE,\n",
    "                                  label_size=LABEL_SIZE,\n",
    "                                  offset=OFFSET)"
   ]
  },
  {
   "cell_type": "code",
   "execution_count": 6,
   "metadata": {
    "id": "OOALlQCN_d0R"
   },
   "outputs": [],
   "source": [
    "# Khởi tạo tf.data.Dataset\n",
    "train_ds = tf.data.Dataset.from_tensor_slices((X_train, y_train)).batch(BATCH_SIZE)\n",
    "val_ds = tf.data.Dataset.from_tensor_slices((X_val, y_val)).batch(BATCH_SIZE)\n",
    "test_ds = tf.data.Dataset.from_tensor_slices((X_test, y_test)).batch(BATCH_SIZE)"
   ]
  },
  {
   "cell_type": "code",
   "execution_count": 7,
   "metadata": {
    "id": "mvwssxUmABk1"
   },
   "outputs": [],
   "source": [
    "# Cấu hình các tham số tối ưu cho việc đọc dữ liệu\n",
    "AUTOTUNE = tf.data.AUTOTUNE\n",
    "\n",
    "train_ds = train_ds.cache().prefetch(buffer_size=AUTOTUNE)\n",
    "val_ds = val_ds.cache().prefetch(buffer_size=AUTOTUNE)"
   ]
  },
  {
   "cell_type": "markdown",
   "metadata": {
    "id": "wuHEXCn3SPuM"
   },
   "source": [
    "## **3. Xây dựng mô hình**"
   ]
  },
  {
   "cell_type": "code",
   "execution_count": 8,
   "metadata": {
    "id": "QQLDXfGQLEzc"
   },
   "outputs": [],
   "source": [
    "# Khai báo normalization layer\n",
    "normalize_layer = tf.keras.layers.Normalization(axis=-1)\n",
    "normalize_layer.adapt(np.vstack((X_train, X_val, X_test)))"
   ]
  },
  {
   "cell_type": "code",
   "execution_count": 15,
   "metadata": {
    "id": "kjLcDQOMA3VX"
   },
   "outputs": [],
   "source": [
    "# Xây dựng hàm khởi tạo model\n",
    "def build_model(input_shape):\n",
    "    model = tf.keras.Sequential([\n",
    "        # Input layer (nhận vào 1 string)\n",
    "        tf.keras.Input(shape=input_shape, name='input_layer'), \n",
    "\n",
    "        normalize_layer,\n",
    "\n",
    "        # BiLSTM Layer 1 \n",
    "        tf.keras.layers.Bidirectional(tf.keras.layers.LSTM(16, \n",
    "                                                           return_sequences=True, \n",
    "                                                           kernel_initializer=tf.initializers.GlorotUniform(seed=RANDOM_SEED)),\n",
    "                                      name='bilstm_layer_1'), \n",
    "\n",
    "        # BiLSTM Layer 2\n",
    "        tf.keras.layers.Bidirectional(tf.keras.layers.LSTM(16, \n",
    "                                                           return_sequences=True, \n",
    "                                                           kernel_initializer=tf.initializers.GlorotUniform(seed=RANDOM_SEED)),\n",
    "                                      name='bilstm_layer_2'),                    \n",
    "                    \n",
    "        # BiLSTM Layer 3\n",
    "        tf.keras.layers.Bidirectional(tf.keras.layers.LSTM(16,\n",
    "                                                           kernel_initializer=tf.initializers.GlorotUniform(seed=RANDOM_SEED)), \n",
    "                                      name='bilstm_layer_3'), \n",
    "                                \n",
    "        # Output Layer\n",
    "        tf.keras.layers.Dense(1, \n",
    "                              kernel_initializer=tf.initializers.GlorotUniform(seed=RANDOM_SEED),\n",
    "                              name='output_layer') \n",
    "    ],\n",
    "    name='bilstm_model')\n",
    "\n",
    "    return model"
   ]
  },
  {
   "cell_type": "code",
   "execution_count": 16,
   "metadata": {
    "colab": {
     "base_uri": "https://localhost:8080/"
    },
    "id": "EpM1-1L9BaYX",
    "outputId": "2ef02ba8-f6bd-455e-9963-430742baa13f"
   },
   "outputs": [
    {
     "name": "stdout",
     "output_type": "stream",
     "text": [
      "Model: \"bilstm_model\"\n",
      "_________________________________________________________________\n",
      " Layer (type)                Output Shape              Param #   \n",
      "=================================================================\n",
      " normalization (Normalizatio  (None, 6, 1)             3         \n",
      " n)                                                              \n",
      "                                                                 \n",
      " bilstm_layer_1 (Bidirection  (None, 6, 32)            2304      \n",
      " al)                                                             \n",
      "                                                                 \n",
      " bilstm_layer_2 (Bidirection  (None, 6, 32)            6272      \n",
      " al)                                                             \n",
      "                                                                 \n",
      " bilstm_layer_3 (Bidirection  (None, 32)               6272      \n",
      " al)                                                             \n",
      "                                                                 \n",
      " output_layer (Dense)        (None, 1)                 33        \n",
      "                                                                 \n",
      "=================================================================\n",
      "Total params: 14,884\n",
      "Trainable params: 14,881\n",
      "Non-trainable params: 3\n",
      "_________________________________________________________________\n"
     ]
    }
   ],
   "source": [
    "INPUT_SHAPE = X_train.shape[-2:] \n",
    "model = build_model(INPUT_SHAPE)\n",
    "model.summary()"
   ]
  },
  {
   "cell_type": "markdown",
   "metadata": {
    "id": "r1M78tohz61-"
   },
   "source": [
    "## **4. Cấu hình mô hình**"
   ]
  },
  {
   "cell_type": "code",
   "execution_count": 18,
   "metadata": {
    "id": "OuAQ0Tsgz_1f"
   },
   "outputs": [],
   "source": [
    "# Khai báo một số giá trị siêu tham số\n",
    "EPOCHS = 35\n",
    "LR = 1e-3"
   ]
  },
  {
   "cell_type": "code",
   "execution_count": 19,
   "metadata": {
    "id": "AaegD5WG0Av0"
   },
   "outputs": [],
   "source": [
    "# Cấu hình một số thông tin cho mô hình\n",
    "model.compile(\n",
    "    optimizer=tf.keras.optimizers.Adam(learning_rate=LR), # Sử dụng optimizer Adam\n",
    "    loss=tf.keras.losses.MeanSquaredError(), # Sử dụng hàm loss Mean Squared Error\n",
    ")"
   ]
  },
  {
   "cell_type": "markdown",
   "metadata": {
    "id": "wVL6ieFZ0XwO"
   },
   "source": [
    "## **5. Huấn luyện mô hình**"
   ]
  },
  {
   "cell_type": "code",
   "execution_count": 20,
   "metadata": {
    "colab": {
     "base_uri": "https://localhost:8080/"
    },
    "id": "_aXnniiC0Z-8",
    "outputId": "ce3af4c6-f797-46e9-e686-ad34255b51e5"
   },
   "outputs": [
    {
     "name": "stdout",
     "output_type": "stream",
     "text": [
      "Epoch 1/35\n",
      "2110/2110 [==============================] - 32s 12ms/step - loss: 26.9889 - val_loss: 4.9468\n",
      "Epoch 2/35\n",
      "2110/2110 [==============================] - 24s 11ms/step - loss: 3.8597 - val_loss: 3.3078\n",
      "Epoch 3/35\n",
      "2110/2110 [==============================] - 24s 11ms/step - loss: 2.7517 - val_loss: 2.1068\n",
      "Epoch 4/35\n",
      "2110/2110 [==============================] - 23s 11ms/step - loss: 2.5309 - val_loss: 1.9635\n",
      "Epoch 5/35\n",
      "2110/2110 [==============================] - 23s 11ms/step - loss: 2.4217 - val_loss: 2.0340\n",
      "Epoch 6/35\n",
      "2110/2110 [==============================] - 24s 11ms/step - loss: 2.3666 - val_loss: 2.0020\n",
      "Epoch 7/35\n",
      "2110/2110 [==============================] - 23s 11ms/step - loss: 2.3340 - val_loss: 1.9362\n",
      "Epoch 8/35\n",
      "2110/2110 [==============================] - 23s 11ms/step - loss: 2.3102 - val_loss: 1.8457\n",
      "Epoch 9/35\n",
      "2110/2110 [==============================] - 23s 11ms/step - loss: 2.3018 - val_loss: 1.7507\n",
      "Epoch 10/35\n",
      "2110/2110 [==============================] - 23s 11ms/step - loss: 2.2877 - val_loss: 1.6710\n",
      "Epoch 11/35\n",
      "2110/2110 [==============================] - 23s 11ms/step - loss: 2.2748 - val_loss: 1.6139\n",
      "Epoch 12/35\n",
      "2110/2110 [==============================] - 23s 11ms/step - loss: 2.2607 - val_loss: 1.5739\n",
      "Epoch 13/35\n",
      "2110/2110 [==============================] - 23s 11ms/step - loss: 2.2480 - val_loss: 1.5455\n",
      "Epoch 14/35\n",
      "2110/2110 [==============================] - 23s 11ms/step - loss: 2.2355 - val_loss: 1.5252\n",
      "Epoch 15/35\n",
      "2110/2110 [==============================] - 23s 11ms/step - loss: 2.2259 - val_loss: 1.5109\n",
      "Epoch 16/35\n",
      "2110/2110 [==============================] - 23s 11ms/step - loss: 2.2155 - val_loss: 1.5000\n",
      "Epoch 17/35\n",
      "2110/2110 [==============================] - 23s 11ms/step - loss: 2.2075 - val_loss: 1.4911\n",
      "Epoch 18/35\n",
      "2110/2110 [==============================] - 23s 11ms/step - loss: 2.1993 - val_loss: 1.4822\n",
      "Epoch 19/35\n",
      "2110/2110 [==============================] - 23s 11ms/step - loss: 2.1925 - val_loss: 1.4761\n",
      "Epoch 20/35\n",
      "2110/2110 [==============================] - 23s 11ms/step - loss: 2.1845 - val_loss: 1.4690\n",
      "Epoch 21/35\n",
      "2110/2110 [==============================] - 23s 11ms/step - loss: 2.1780 - val_loss: 1.4628\n",
      "Epoch 22/35\n",
      "2110/2110 [==============================] - 23s 11ms/step - loss: 2.1704 - val_loss: 1.4573\n",
      "Epoch 23/35\n",
      "2110/2110 [==============================] - 23s 11ms/step - loss: 2.1636 - val_loss: 1.4516\n",
      "Epoch 24/35\n",
      "2110/2110 [==============================] - 23s 11ms/step - loss: 2.1562 - val_loss: 1.4473\n",
      "Epoch 25/35\n",
      "2110/2110 [==============================] - 23s 11ms/step - loss: 2.1496 - val_loss: 1.4420\n",
      "Epoch 26/35\n",
      "2110/2110 [==============================] - 23s 11ms/step - loss: 2.1429 - val_loss: 1.4368\n",
      "Epoch 27/35\n",
      "2110/2110 [==============================] - 23s 11ms/step - loss: 2.1358 - val_loss: 1.4322\n",
      "Epoch 28/35\n",
      "2110/2110 [==============================] - 23s 11ms/step - loss: 2.1295 - val_loss: 1.4273\n",
      "Epoch 29/35\n",
      "2110/2110 [==============================] - 23s 11ms/step - loss: 2.1233 - val_loss: 1.4211\n",
      "Epoch 30/35\n",
      "2110/2110 [==============================] - 23s 11ms/step - loss: 2.1169 - val_loss: 1.4165\n",
      "Epoch 31/35\n",
      "2110/2110 [==============================] - 23s 11ms/step - loss: 2.1107 - val_loss: 1.4112\n",
      "Epoch 32/35\n",
      "2110/2110 [==============================] - 23s 11ms/step - loss: 2.1050 - val_loss: 1.4071\n",
      "Epoch 33/35\n",
      "2110/2110 [==============================] - 23s 11ms/step - loss: 2.0990 - val_loss: 1.4026\n",
      "Epoch 34/35\n",
      "2110/2110 [==============================] - 23s 11ms/step - loss: 2.0929 - val_loss: 1.3987\n",
      "Epoch 35/35\n",
      "2110/2110 [==============================] - 23s 11ms/step - loss: 2.0865 - val_loss: 1.3967\n"
     ]
    }
   ],
   "source": [
    "history = model.fit(train_ds, \n",
    "                    validation_data=val_ds,\n",
    "                    epochs=EPOCHS)"
   ]
  },
  {
   "cell_type": "markdown",
   "metadata": {
    "id": "3n0mStvxD_3i"
   },
   "source": [
    "## **6. Đánh giá và trực quan hóa**"
   ]
  },
  {
   "cell_type": "code",
   "execution_count": 24,
   "metadata": {
    "colab": {
     "base_uri": "https://localhost:8080/"
    },
    "id": "io3SVbwLEIEA",
    "outputId": "b222ec7c-c20c-4f31-d8a7-37e2f87119b8"
   },
   "outputs": [
    {
     "name": "stdout",
     "output_type": "stream",
     "text": [
      "302/302 [==============================] - 1s 5ms/step - loss: 1.1984\n"
     ]
    }
   ],
   "source": [
    "# Đánh giá mô hình trên tập test\n",
    "test_evaluation = model.evaluate(test_ds)"
   ]
  },
  {
   "cell_type": "code",
   "execution_count": 22,
   "metadata": {
    "colab": {
     "base_uri": "https://localhost:8080/",
     "height": 350
    },
    "id": "Z0gouvt6EIxk",
    "outputId": "b08598f1-32fe-4a46-9702-5979cf7c5464"
   },
   "outputs": [
    {
     "data": {
      "image/png": "[encoded data removed]",
      "text/plain": [
       "<Figure size 720x360 with 2 Axes>"
      ]
     },
     "metadata": {
      "needs_background": "light"
     },
     "output_type": "display_data"
    }
   ],
   "source": [
    "train_loss = history.history['loss']# Đọc thông tin loss trên tập train\n",
    "val_loss = history.history['val_loss'] # Đọc thông tin loss trên tập val\n",
    "\n",
    "plt.figure(figsize=(10, 5)) # Cài đặt kích thước khung ảnh\n",
    "\n",
    "plt.subplot(1, 2, 1) # Khởi tạo khung ảnh cho training loss\n",
    "plt.xlabel('Epochs') # Hiển thị tên trục hoành là 'Epochs'\n",
    "plt.ylabel('Loss') # Hiển thị tên trục tung là 'Loss'\n",
    "plt.title('Training loss') # Hiển thị title của khung ảnh hiện tại là 'Training Loss'\n",
    "plt.plot(train_loss, color='red') # Vẽ đường giá trị loss trên tập train qua từng epoch (đường vẽ màu đỏ)\n",
    "\n",
    "plt.subplot(1, 2, 2) # Khởi tạo khung ảnh cho val loss\n",
    "plt.xlabel('Epochs') # Hiển thị tên trục hoành là 'Epochs'\n",
    "plt.ylabel('Loss') # Hiển thị tên trục tung là 'Loss'\n",
    "plt.title('Validation loss') # Hiển thị title của khung ảnh hiện tại là 'Validation loss'\n",
    "plt.plot(val_loss, color='orange') # Vẽ đường giá trị loss trên tập val qua từng epoch (đường vẽ màu đỏ)\n",
    "\n",
    "plt.show() # Hiển thị 2 khung ảnh nhỏ"
   ]
  },
  {
   "cell_type": "code",
   "execution_count": 25,
   "metadata": {
    "colab": {
     "base_uri": "https://localhost:8080/",
     "height": 404
    },
    "id": "mpPLoMbxdqkg",
    "outputId": "16193660-7ac5-4062-fcb1-40c01872ec8e"
   },
   "outputs": [
    {
     "data": {
      "image/png": "[encoded data removed]",
      "text/plain": [
       "<Figure size 1440x432 with 1 Axes>"
      ]
     },
     "metadata": {
      "needs_background": "light"
     },
     "output_type": "display_data"
    }
   ],
   "source": [
    "def plot_difference(y, pred):\n",
    "    plt.figure(figsize=(20, 6))\n",
    "    times = range(len(y))\n",
    "    y_to_plot = y.flatten()\n",
    "    pred_to_plot = pred.flatten()\n",
    "\n",
    "    plt.plot(times, y_to_plot, color='steelblue', marker='o', label='True value')\n",
    "    plt.plot(times, pred_to_plot, color='orangered', marker='X', label='Prediction')\n",
    "\n",
    "    plt.title('Temperature in every hours')\n",
    "    plt.xlabel('Hour')\n",
    "    plt.ylabel('Temperature (C)')\n",
    "    plt.legend()\n",
    "    plt.show()\n",
    "\n",
    "plot_difference(y_test[:100], model.predict(X_test[:100], verbose=0))"
   ]
  },
  {
   "cell_type": "code",
   "execution_count": null,
   "metadata": {
    "id": "4ekFZIDvRAbh"
   },
   "outputs": [],
   "source": []
  }
 ],
 "metadata": {
  "accelerator": "GPU",
  "colab": {
   "provenance": []
  },
  "gpuClass": "standard",
  "kernelspec": {
   "display_name": "Python 3 (ipykernel)",
   "language": "python",
   "name": "python3"
  },
  "language_info": {
   "codemirror_mode": {
    "name": "ipython",
    "version": 3
   },
   "file_extension": ".py",
   "mimetype": "text/x-python",
   "name": "python",
   "nbconvert_exporter": "python",
   "pygments_lexer": "ipython3",
   "version": "3.9.13"
  }
 },
 "nbformat": 4,
 "nbformat_minor": 1
}
