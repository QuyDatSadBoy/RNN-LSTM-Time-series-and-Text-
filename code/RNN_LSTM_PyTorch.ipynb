{
 "cells": [
  {
   "cell_type": "markdown",
   "id": "7ab4c787-d4e9-4514-94a5-af370a7dee52",
   "metadata": {},
   "source": [
    "## Embedding"
   ]
  },
  {
   "cell_type": "code",
   "execution_count": 1,
   "id": "f5684314-0901-4396-abac-f536ddb4328b",
   "metadata": {},
   "outputs": [
    {
     "name": "stdout",
     "output_type": "stream",
     "text": [
      "torch.Size([8, 4])\n",
      "Parameter containing:\n",
      "tensor([[-1.0519e+00, -7.1848e-01,  1.9329e+00,  9.0842e-01],\n",
      "        [-1.2014e-03, -1.2857e-01,  6.7015e-01, -1.7427e-01],\n",
      "        [-5.9494e-01,  5.9013e-01, -1.2110e+00,  1.2570e+00],\n",
      "        [ 1.1538e+00,  1.2611e+00,  1.0576e+00, -1.0911e+00],\n",
      "        [-9.1101e-01, -1.4574e+00, -7.1536e-01,  2.9316e-01],\n",
      "        [-3.7073e-01, -2.4641e+00,  1.4500e+00, -4.6410e-01],\n",
      "        [-2.1130e-02,  6.0572e-01,  1.3558e+00,  1.4971e+00],\n",
      "        [-6.0266e-01,  8.9815e-01,  4.8690e-01,  9.7690e-01]],\n",
      "       requires_grad=True)\n"
     ]
    }
   ],
   "source": [
    "import torch\n",
    "import torch.nn as nn\n",
    "\n",
    "vocab_size = 8\n",
    "embed_dim = 4\n",
    "embedding = nn.Embedding(vocab_size, embed_dim)\n",
    "print(embedding.weight.shape)\n",
    "print(embedding.weight)"
   ]
  },
  {
   "cell_type": "code",
   "execution_count": null,
   "id": "e27da892-92c3-4253-a0b2-70b44d04895d",
   "metadata": {},
   "outputs": [],
   "source": []
  },
  {
   "cell_type": "code",
   "execution_count": 2,
   "id": "0f22eeaf-e604-4b17-ae13-8b58f6fe5efb",
   "metadata": {},
   "outputs": [
    {
     "name": "stdout",
     "output_type": "stream",
     "text": [
      "tensor([[-1.0519e+00, -7.1848e-01,  1.9329e+00,  9.0842e-01],\n",
      "        [-9.1101e-01, -1.4574e+00, -7.1536e-01,  2.9316e-01],\n",
      "        [-6.0266e-01,  8.9815e-01,  4.8690e-01,  9.7690e-01],\n",
      "        [-5.9494e-01,  5.9013e-01, -1.2110e+00,  1.2570e+00],\n",
      "        [-1.2014e-03, -1.2857e-01,  6.7015e-01, -1.7427e-01]],\n",
      "       grad_fn=<EmbeddingBackward0>)\n"
     ]
    }
   ],
   "source": [
    "data = torch.tensor([0, 4, 7, 2, 1], \n",
    "                    dtype=torch.long)\n",
    "data_embedding = embedding(data)\n",
    "print(data_embedding)"
   ]
  },
  {
   "cell_type": "code",
   "execution_count": null,
   "id": "ba6e6df9-908d-494c-9ab0-6e394f0582cf",
   "metadata": {},
   "outputs": [],
   "source": []
  },
  {
   "cell_type": "markdown",
   "id": "e865dfe0-aace-4c19-bd79-b67e0364f869",
   "metadata": {},
   "source": [
    "## RNN"
   ]
  },
  {
   "cell_type": "code",
   "execution_count": 4,
   "id": "dac1a118-1f3c-4d67-a262-97df5e82157d",
   "metadata": {},
   "outputs": [
    {
     "name": "stdout",
     "output_type": "stream",
     "text": [
      "torch.Size([5, 4])\n"
     ]
    }
   ],
   "source": [
    "# sequence_length = 5\n",
    "# embed_dim = 4\n",
    "\n",
    "\n",
    "import torch\n",
    "import torch.nn as nn\n",
    "\n",
    "data = torch.tensor([[-0.1882,  0.5530,  1.6267,  0.7013],\n",
    "                     [ 0.2293,  1.3255,  0.1318,  2.0501],\n",
    "                     [ 0.4309, -1.3067, -0.8823,  1.5977],\n",
    "                     [ 1.0281, -1.9094,  0.3182,  0.4211],\n",
    "                     [ 1.7840, -0.8278, -0.2701,  1.3586]], \n",
    "                    dtype=torch.float)\n",
    "print(data.shape)"
   ]
  },
  {
   "cell_type": "code",
   "execution_count": null,
   "id": "e075047c-4224-49cd-b117-e66eb61b33d3",
   "metadata": {},
   "outputs": [],
   "source": []
  },
  {
   "cell_type": "code",
   "execution_count": 6,
   "id": "cf7265be-bff2-429f-8093-f45c3392ebd7",
   "metadata": {},
   "outputs": [],
   "source": [
    "# does RNN need sequence_length in advance?\n",
    "\n",
    "embed_dim = 4\n",
    "hidden_dim = 3\n",
    "rnn = nn.RNN(embed_dim, hidden_dim, batch_first=True)"
   ]
  },
  {
   "cell_type": "code",
   "execution_count": null,
   "id": "983425e1-4e69-4a19-9a8b-ac607b4156cb",
   "metadata": {},
   "outputs": [],
   "source": []
  },
  {
   "cell_type": "code",
   "execution_count": 11,
   "id": "32602e06-25b6-4a77-9c9a-7e16408b7b5a",
   "metadata": {},
   "outputs": [
    {
     "name": "stdout",
     "output_type": "stream",
     "text": [
      "output.shape: torch.Size([1, 5, 3])\n",
      "hidden.shape: torch.Size([1, 1, 3])\n"
     ]
    }
   ],
   "source": [
    "# explain shapes of output and hidden\n",
    "\n",
    "data = data.reshape(1, 5, 4)  # (bs, L, embed_dim)\n",
    "output, hidden = rnn(data)\n",
    "print('output.shape:', output.shape) # (bs, L, hidden_dim)\n",
    "print('hidden.shape:', hidden.shape) # (1, bs, embed_dim)"
   ]
  },
  {
   "cell_type": "code",
   "execution_count": 10,
   "id": "334b57b6-09f0-4bcc-97b7-cad714fb3cb4",
   "metadata": {},
   "outputs": [
    {
     "data": {
      "text/plain": [
       "tensor([[-0.2511, -0.0588,  0.4034]], grad_fn=<SliceBackward0>)"
      ]
     },
     "execution_count": 10,
     "metadata": {},
     "output_type": "execute_result"
    }
   ],
   "source": [
    "output[:, -1, :]"
   ]
  },
  {
   "cell_type": "code",
   "execution_count": 13,
   "id": "60c26c62-c4f6-4021-b104-898c71aee1e5",
   "metadata": {},
   "outputs": [
    {
     "data": {
      "text/plain": [
       "tensor([[-0.2511, -0.0588,  0.4034]], grad_fn=<SliceBackward0>)"
      ]
     },
     "execution_count": 13,
     "metadata": {},
     "output_type": "execute_result"
    }
   ],
   "source": [
    "hidden[-1, :, :]"
   ]
  },
  {
   "cell_type": "code",
   "execution_count": null,
   "id": "5c4e8012-3326-45eb-b92a-40afd55af3f5",
   "metadata": {},
   "outputs": [],
   "source": []
  },
  {
   "cell_type": "code",
   "execution_count": 15,
   "id": "7e1300fc-6915-4085-9dad-7ed177034b5c",
   "metadata": {},
   "outputs": [
    {
     "data": {
      "text/plain": [
       "==========================================================================================\n",
       "Layer (type:depth-idx)                   Output Shape              Param #\n",
       "==========================================================================================\n",
       "RNN                                      [1, 50, 3]                27\n",
       "==========================================================================================\n",
       "Total params: 27\n",
       "Trainable params: 27\n",
       "Non-trainable params: 0\n",
       "Total mult-adds (Units.MEGABYTES): 0.00\n",
       "==========================================================================================\n",
       "Input size (MB): 0.00\n",
       "Forward/backward pass size (MB): 0.00\n",
       "Params size (MB): 0.00\n",
       "Estimated Total Size (MB): 0.00\n",
       "=========================================================================================="
      ]
     },
     "execution_count": 15,
     "metadata": {},
     "output_type": "execute_result"
    }
   ],
   "source": [
    "import torchinfo\n",
    "\n",
    "embed_dim = 4\n",
    "hidden_dim = 3\n",
    "rnn = nn.RNN(embed_dim, hidden_dim, \n",
    "             batch_first=True)\n",
    "\n",
    "batch_size = 1\n",
    "sequence_length = 5\n",
    "torchinfo.summary(rnn, (batch_size, sequence_length, embed_dim)) "
   ]
  },
  {
   "cell_type": "code",
   "execution_count": null,
   "id": "ad7ea2cd-375f-4758-8c62-ea4c6ed05aab",
   "metadata": {},
   "outputs": [],
   "source": []
  },
  {
   "cell_type": "code",
   "execution_count": 25,
   "id": "4a6287aa-483a-4a20-b644-41ce325fc1ca",
   "metadata": {},
   "outputs": [
    {
     "name": "stdout",
     "output_type": "stream",
     "text": [
      "==========================================================================================\n",
      "Layer (type:depth-idx)                   Output Shape              Param #\n",
      "==========================================================================================\n",
      "└─RNN: 0-1                               [-1, 5, 3]                27\n",
      "==========================================================================================\n",
      "Total params: 27\n",
      "Trainable params: 27\n",
      "Non-trainable params: 0\n",
      "Total mult-adds (M): 0.00\n",
      "==========================================================================================\n",
      "Input size (MB): 0.00\n",
      "Forward/backward pass size (MB): 0.00\n",
      "Params size (MB): 0.00\n",
      "Estimated Total Size (MB): 0.00\n",
      "==========================================================================================\n"
     ]
    },
    {
     "data": {
      "text/plain": [
       "==========================================================================================\n",
       "Layer (type:depth-idx)                   Output Shape              Param #\n",
       "==========================================================================================\n",
       "└─RNN: 0-1                               [-1, 5, 3]                27\n",
       "==========================================================================================\n",
       "Total params: 27\n",
       "Trainable params: 27\n",
       "Non-trainable params: 0\n",
       "Total mult-adds (M): 0.00\n",
       "==========================================================================================\n",
       "Input size (MB): 0.00\n",
       "Forward/backward pass size (MB): 0.00\n",
       "Params size (MB): 0.00\n",
       "Estimated Total Size (MB): 0.00\n",
       "=========================================================================================="
      ]
     },
     "execution_count": 25,
     "metadata": {},
     "output_type": "execute_result"
    }
   ],
   "source": [
    "from torchsummary import summary\n",
    "import torch\n",
    "\n",
    "embed_dim = 4\n",
    "hidden_dim = 3\n",
    "rnn = nn.RNN(embed_dim, hidden_dim, \n",
    "             batch_first=True)\n",
    "\n",
    "data = torch.randn(32, 5, 4)\n",
    "\n",
    "batch_size = 1\n",
    "sequence_length = 5\n",
    "summary(rnn, data) "
   ]
  },
  {
   "cell_type": "code",
   "execution_count": null,
   "id": "b201eaf7-6d3e-4a33-8e8d-d21f4b29d5bc",
   "metadata": {},
   "outputs": [],
   "source": []
  },
  {
   "cell_type": "code",
   "execution_count": null,
   "id": "e70c6164-347a-4d7c-922c-205c413ca568",
   "metadata": {},
   "outputs": [],
   "source": []
  },
  {
   "cell_type": "code",
   "execution_count": 23,
   "id": "1b341cd4-7291-4280-9158-233127de6b30",
   "metadata": {},
   "outputs": [
    {
     "data": {
      "text/plain": [
       "==========================================================================================\n",
       "Layer (type:depth-idx)                   Output Shape              Param #\n",
       "==========================================================================================\n",
       "RNN                                      [1, 5, 3]                 21\n",
       "==========================================================================================\n",
       "Total params: 21\n",
       "Trainable params: 21\n",
       "Non-trainable params: 0\n",
       "Total mult-adds (Units.MEGABYTES): 0.00\n",
       "==========================================================================================\n",
       "Input size (MB): 0.00\n",
       "Forward/backward pass size (MB): 0.00\n",
       "Params size (MB): 0.00\n",
       "Estimated Total Size (MB): 0.00\n",
       "=========================================================================================="
      ]
     },
     "execution_count": 23,
     "metadata": {},
     "output_type": "execute_result"
    }
   ],
   "source": [
    "import torchinfo\n",
    "\n",
    "embed_dim = 4\n",
    "hidden_dim = 3\n",
    "rnn = nn.RNN(embed_dim, hidden_dim, \n",
    "             batch_first=True, bias=False)\n",
    "\n",
    "batch_size = 1\n",
    "sequence_length = 5\n",
    "torchinfo.summary(rnn, (batch_size, sequence_length, embed_dim)) "
   ]
  },
  {
   "cell_type": "code",
   "execution_count": null,
   "id": "1a947699-8e2b-4379-9456-5aa51eaa59ac",
   "metadata": {},
   "outputs": [],
   "source": []
  },
  {
   "cell_type": "markdown",
   "id": "afae0e05-d326-4624-8e9b-55e43af1ccce",
   "metadata": {},
   "source": [
    "## Stack of RNNs"
   ]
  },
  {
   "cell_type": "code",
   "execution_count": 17,
   "id": "65b897b3-e09a-4484-ad2d-31f5905504fc",
   "metadata": {},
   "outputs": [
    {
     "data": {
      "text/plain": [
       "==========================================================================================\n",
       "Layer (type:depth-idx)                   Output Shape              Param #\n",
       "==========================================================================================\n",
       "RNN                                      [1, 5, 3]                 51\n",
       "==========================================================================================\n",
       "Total params: 51\n",
       "Trainable params: 51\n",
       "Non-trainable params: 0\n",
       "Total mult-adds (Units.MEGABYTES): 0.00\n",
       "==========================================================================================\n",
       "Input size (MB): 0.00\n",
       "Forward/backward pass size (MB): 0.00\n",
       "Params size (MB): 0.00\n",
       "Estimated Total Size (MB): 0.00\n",
       "=========================================================================================="
      ]
     },
     "execution_count": 17,
     "metadata": {},
     "output_type": "execute_result"
    }
   ],
   "source": [
    "import torchinfo\n",
    "\n",
    "embed_dim = 4\n",
    "hidden_dim = 3\n",
    "rnn = nn.RNN(embed_dim, hidden_dim, num_layers=2, batch_first=True)\n",
    "\n",
    "batch_size = 1\n",
    "sequence_length = 5\n",
    "torchinfo.summary(rnn, (batch_size, sequence_length, embed_dim)) "
   ]
  },
  {
   "cell_type": "code",
   "execution_count": null,
   "id": "851e459b-5367-413a-bed8-3717430417c0",
   "metadata": {},
   "outputs": [],
   "source": []
  },
  {
   "cell_type": "code",
   "execution_count": null,
   "id": "bbb1d486-e03e-4ac6-a111-f523b4026b43",
   "metadata": {},
   "outputs": [],
   "source": [
    "# explain shapes of output and hidden\n",
    "data = torch.tensor([[-0.1882,  0.5530,  1.6267,  0.7013],\n",
    "                     [ 0.2293,  1.3255,  0.1318,  2.0501],\n",
    "                     [ 0.4309, -1.3067, -0.8823,  1.5977],\n",
    "                     [ 1.0281, -1.9094,  0.3182,  0.4211],\n",
    "                     [ 1.7840, -0.8278, -0.2701,  1.3586]], \n",
    "                    dtype=torch.float)\n",
    "data = data.reshape(1, 5, 4)\n",
    "\n",
    "output, hidden = rnn(data)\n",
    "print('output.shape:', output.shape)\n",
    "print('hidden.shape:', hidden.shape)"
   ]
  },
  {
   "cell_type": "code",
   "execution_count": null,
   "id": "b038e551-f39a-4c68-92d0-efd128db82fe",
   "metadata": {},
   "outputs": [],
   "source": [
    "output"
   ]
  },
  {
   "cell_type": "code",
   "execution_count": null,
   "id": "6f22d3d5-6378-4896-8bde-8517f1d1a39f",
   "metadata": {},
   "outputs": [],
   "source": [
    "hidden"
   ]
  },
  {
   "cell_type": "markdown",
   "id": "5aced99b-2f43-43f3-93f3-d672dcc11727",
   "metadata": {},
   "source": [
    "## bidirectional"
   ]
  },
  {
   "cell_type": "code",
   "execution_count": 20,
   "id": "3ff84dfe-70a5-4dec-8623-f13888fc7f82",
   "metadata": {},
   "outputs": [
    {
     "data": {
      "text/plain": [
       "==========================================================================================\n",
       "Layer (type:depth-idx)                   Output Shape              Param #\n",
       "==========================================================================================\n",
       "RNN                                      [1, 5, 6]                 54\n",
       "==========================================================================================\n",
       "Total params: 54\n",
       "Trainable params: 54\n",
       "Non-trainable params: 0\n",
       "Total mult-adds (Units.MEGABYTES): 0.00\n",
       "==========================================================================================\n",
       "Input size (MB): 0.00\n",
       "Forward/backward pass size (MB): 0.00\n",
       "Params size (MB): 0.00\n",
       "Estimated Total Size (MB): 0.00\n",
       "=========================================================================================="
      ]
     },
     "execution_count": 20,
     "metadata": {},
     "output_type": "execute_result"
    }
   ],
   "source": [
    "import torchinfo\n",
    "\n",
    "embed_dim = 4\n",
    "hidden_dim = 3\n",
    "rnn = nn.RNN(embed_dim, hidden_dim, bidirectional=True, batch_first=True)\n",
    "\n",
    "batch_size = 1\n",
    "sequence_length = 5\n",
    "torchinfo.summary(rnn, (batch_size, sequence_length, embed_dim)) "
   ]
  },
  {
   "cell_type": "code",
   "execution_count": null,
   "id": "3222111e-1c29-40db-baf6-32078732d144",
   "metadata": {},
   "outputs": [],
   "source": []
  },
  {
   "cell_type": "code",
   "execution_count": null,
   "id": "2a36b7ef-8b76-4bab-950d-258b689f1913",
   "metadata": {},
   "outputs": [],
   "source": []
  },
  {
   "cell_type": "markdown",
   "id": "65177682-ea3a-46d9-960f-db59ef1d3cd2",
   "metadata": {},
   "source": [
    "## LSTM"
   ]
  },
  {
   "cell_type": "code",
   "execution_count": null,
   "id": "5876a851-b9ab-47da-9a52-e39d9ade9cbf",
   "metadata": {},
   "outputs": [],
   "source": [
    "import torchinfo\n",
    "import torch.nn as nn\n",
    "\n",
    "embed_dim = 4\n",
    "hidden_dim = 3\n",
    "lstm = nn.LSTM(embed_dim, hidden_dim, batch_first=True)\n",
    "\n",
    "batch_size = 1\n",
    "sequence_length = 5\n",
    "torchinfo.summary(lstm, (batch_size, sequence_length, embed_dim)) "
   ]
  },
  {
   "cell_type": "code",
   "execution_count": null,
   "id": "7376fbc9-ba2b-41c1-8a4b-7f50b5bc01d6",
   "metadata": {},
   "outputs": [],
   "source": []
  },
  {
   "cell_type": "code",
   "execution_count": null,
   "id": "46f25f4d-4c3d-4cde-86ce-3b2355824f03",
   "metadata": {},
   "outputs": [],
   "source": []
  },
  {
   "cell_type": "code",
   "execution_count": null,
   "id": "3434c504-f110-4e1e-8bfd-9e3f98bb0678",
   "metadata": {},
   "outputs": [],
   "source": []
  },
  {
   "cell_type": "code",
   "execution_count": null,
   "id": "8e32899a-69af-4f0d-9482-915bf220d263",
   "metadata": {},
   "outputs": [],
   "source": []
  },
  {
   "cell_type": "code",
   "execution_count": null,
   "id": "1a5301ce-8a13-4e97-825a-e44d8dc8e881",
   "metadata": {},
   "outputs": [],
   "source": []
  },
  {
   "cell_type": "code",
   "execution_count": null,
   "id": "83ddad8a-b04d-4ef1-a118-0c39b9b6fe4e",
   "metadata": {},
   "outputs": [],
   "source": []
  },
  {
   "cell_type": "code",
   "execution_count": null,
   "id": "74f15732-6b5d-4b14-b89c-6779393123e2",
   "metadata": {},
   "outputs": [],
   "source": []
  },
  {
   "cell_type": "code",
   "execution_count": null,
   "id": "d1195be9-1779-4730-8891-f1f74926e711",
   "metadata": {},
   "outputs": [],
   "source": []
  },
  {
   "cell_type": "code",
   "execution_count": null,
   "id": "b41b08fb-0b23-4c0b-95f2-115e35d55f64",
   "metadata": {},
   "outputs": [],
   "source": []
  },
  {
   "cell_type": "code",
   "execution_count": null,
   "id": "1ee503e4-2ac6-4057-aa18-2341e983eb4a",
   "metadata": {},
   "outputs": [],
   "source": []
  }
 ],
 "metadata": {
  "kernelspec": {
   "display_name": "Python 3 (ipykernel)",
   "language": "python",
   "name": "python3"
  },
  "language_info": {
   "codemirror_mode": {
    "name": "ipython",
    "version": 3
   },
   "file_extension": ".py",
   "mimetype": "text/x-python",
   "name": "python",
   "nbconvert_exporter": "python",
   "pygments_lexer": "ipython3",
   "version": "3.11.5"
  }
 },
 "nbformat": 4,
 "nbformat_minor": 5
}
